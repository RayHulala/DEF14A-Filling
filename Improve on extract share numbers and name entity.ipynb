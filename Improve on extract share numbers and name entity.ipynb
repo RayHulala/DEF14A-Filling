{
 "cells": [
  {
   "cell_type": "markdown",
   "metadata": {},
   "source": [
    "# A refinement of 1st version of pledge information extraction"
   ]
  },
  {
   "cell_type": "code",
   "execution_count": null,
   "metadata": {
    "collapsed": true
   },
   "outputs": [],
   "source": [
    "import pandas as pd\n",
    "import numpy as np\n",
    "from joblib import Parallel, delayed\n",
    "import multiprocessing\n",
    "import pickle  \n",
    "import spacy\n",
    "import re\n",
    "import string\n",
    "import deepdish as dd"
   ]
  },
  {
   "cell_type": "code",
   "execution_count": null,
   "metadata": {
    "collapsed": true
   },
   "outputs": [],
   "source": [
    "nlp = spacy.load('en')"
   ]
  },
  {
   "cell_type": "code",
   "execution_count": null,
   "metadata": {
    "collapsed": true
   },
   "outputs": [],
   "source": [
    "info_dict = dd.io.load('cleaned_info.h5')"
   ]
  },
  {
   "cell_type": "code",
   "execution_count": null,
   "metadata": {
    "collapsed": false
   },
   "outputs": [],
   "source": [
    "info = pd.DataFrame.from_dict(info_dict,orient='index')"
   ]
  },
  {
   "cell_type": "code",
   "execution_count": null,
   "metadata": {
    "collapsed": true
   },
   "outputs": [],
   "source": [
    "def parallel(function, loop):\n",
    "    core = multiprocessing.cpu_count()\n",
    "    Parallel(n_jobs= core, backend='threading')(delayed(function)(i) for i in loop)"
   ]
  },
  {
   "cell_type": "code",
   "execution_count": null,
   "metadata": {
    "collapsed": false
   },
   "outputs": [],
   "source": [
    "plginfo = info[1]\n",
    "link = info_dict[2][0]"
   ]
  },
  {
   "cell_type": "code",
   "execution_count": null,
   "metadata": {
    "collapsed": true
   },
   "outputs": [],
   "source": [
    "result = {}"
   ]
  },
  {
   "cell_type": "code",
   "execution_count": 185,
   "metadata": {
    "collapsed": false
   },
   "outputs": [],
   "source": [
    "def extract(ind):\n",
    "    text = plginfo[ind]\n",
    "    FName = link[ind]\n",
    "    token = nlp(text)\n",
    "    sents = [str(w) for w in token.sents]\n",
    "    sents_plg = [x for x in sents if ('share' or 'Share' or 'SHARE') in x and  ('pledg'or 'Pledg'or'PLEDG') in x]\n",
    "    tags = [(i, x, x.tag_) for i, x in enumerate(token)]\n",
    "    number = [str(s[1]) for s in tags if s[2] == 'CD' and ',' in str(s[1])]\n",
    "    length = len(sents_plg)\n",
    "    if number != []:\n",
    "        entities = []\n",
    "        share_num = []\n",
    "        pair = []\n",
    "        for sent in sents_plg:\n",
    "            tk = nlp(sent)\n",
    "            ents = list(tk.ents)\n",
    "            e = [str(p) for p in ents if p.label_ == 'PERSON']\n",
    "            s = [str(r) for r in ents if (r.label_ == 'CARDINAL' and str(r) in number)]\n",
    "            entities = list(e)\n",
    "            share_num = list(s)\n",
    "            match_share_name = list(zip(e,s))\n",
    "            pair.append(match_share_name)\n",
    "    else:\n",
    "        entities = 'None'\n",
    "        share_num = 'None'\n",
    "        pair = 'None'\n",
    "    result[FName] = (FName,length,entities,number,share_num,pair)\n",
    "    return "
   ]
  },
  {
   "cell_type": "code",
   "execution_count": 172,
   "metadata": {
    "collapsed": true
   },
   "outputs": [],
   "source": [
    "def process(ind):\n",
    "    try:\n",
    "        extract(ind)\n",
    "        print(ind)\n",
    "    except:\n",
    "        print(ind, 'error')\n",
    "        result[ind] = ()"
   ]
  },
  {
   "cell_type": "code",
   "execution_count": null,
   "metadata": {
    "collapsed": true
   },
   "outputs": [],
   "source": []
  },
  {
   "cell_type": "code",
   "execution_count": null,
   "metadata": {
    "collapsed": false
   },
   "outputs": [],
   "source": [
    "parallel(process, plginfo.index)"
   ]
  },
  {
   "cell_type": "code",
   "execution_count": null,
   "metadata": {
    "collapsed": true
   },
   "outputs": [],
   "source": []
  },
  {
   "cell_type": "code",
   "execution_count": null,
   "metadata": {
    "collapsed": false
   },
   "outputs": [],
   "source": [
    "dd.io.save('refined_pldinfo.h5', result, compression = 'blosc')"
   ]
  },
  {
   "cell_type": "code",
   "execution_count": null,
   "metadata": {
    "collapsed": true
   },
   "outputs": [],
   "source": []
  }
 ],
 "metadata": {
  "kernelspec": {
   "display_name": "Python 3",
   "language": "python",
   "name": "python3"
  },
  "language_info": {
   "codemirror_mode": {
    "name": "ipython",
    "version": 3
   },
   "file_extension": ".py",
   "mimetype": "text/x-python",
   "name": "python",
   "nbconvert_exporter": "python",
   "pygments_lexer": "ipython3",
   "version": "3.5.1"
  }
 },
 "nbformat": 4,
 "nbformat_minor": 0
}
