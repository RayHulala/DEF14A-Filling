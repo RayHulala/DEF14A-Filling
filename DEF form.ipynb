{
 "cells": [
  {
   "cell_type": "code",
   "execution_count": 1,
   "metadata": {
    "collapsed": false
   },
   "outputs": [],
   "source": [
    "import pandas as pd\n",
    "import numpy as np\n",
    "import urllib.request\n",
    "from urllib.request import urlopen\n",
    "from bs4 import BeautifulSoup\n",
    "import re\n",
    "import unicodedata\n",
    "import html"
   ]
  },
  {
   "cell_type": "code",
   "execution_count": 2,
   "metadata": {
    "collapsed": false
   },
   "outputs": [],
   "source": [
    "df = pd.read_excel('info.xlsx')"
   ]
  },
  {
   "cell_type": "code",
   "execution_count": 3,
   "metadata": {
    "collapsed": true
   },
   "outputs": [],
   "source": [
    "return_dict = {}\n",
    "clean_dict ={}"
   ]
  },
  {
   "cell_type": "code",
   "execution_count": 165,
   "metadata": {
    "collapsed": true
   },
   "outputs": [],
   "source": [
    "def pledgeinfo(i):\n",
    "    try:\n",
    "        path = df['FName'].loc[i]\n",
    "        link = 'https://www.sec.gov/Archives/' + path\n",
    "        htmlfile = urllib.request.urlopen(link)\n",
    "        htmltext = htmlfile.read().decode('utf-8')\n",
    "        htmltext_1 = html.unescape(htmltext)\n",
    "        soup = BeautifulSoup(htmltext_1, 'lxml')\n",
    "        x = soup.get_text()\n",
    "        text = x.split('. ')\n",
    "        allmatch = [text[s] + '. ' for s in range (0, len(text)) if 'pledg' in ''.join(text[s:s+1])]\n",
    "        pledge = ''.join(allmatch)\n",
    "        if pledge != None:\n",
    "            index = df['index'].loc[i]\n",
    "            clean0 = pledge.replace('\\n', \" \")\n",
    "            clean1 = clean0.replace('\\t', \" \")\n",
    "            clean2 = \" \".join(clean1.split())\n",
    "            unicode_str = str(clean2)\n",
    "            cleaned = unicodedata.normalize(\"NFKC\", unicode_str)\n",
    "            \n",
    "            \n",
    "            clean_dict[i] = (cleaned, index, path)\n",
    "            print (i)\n",
    "        else:\n",
    "            print('clean error', i)\n",
    "    except:\n",
    "        return_dict[i] = ''\n",
    "        print ('error', i)\n",
    "        return"
   ]
  },
  {
   "cell_type": "code",
   "execution_count": null,
   "metadata": {
    "collapsed": true
   },
   "outputs": [],
   "source": []
  },
  {
   "cell_type": "markdown",
   "metadata": {
    "collapsed": false
   },
   "source": [
    "def getpledge(i):\n",
    "    try:\n",
    "        path = df['FName'].loc[i]\n",
    "        link = 'https://www.sec.gov/Archives/' + path\n",
    "        htmlfile = urllib.request.urlopen(link)\n",
    "        htmltext = htmlfile.read().decode('utf-8')\n",
    "        htmltext_1 = html.unescape(htmltext)\n",
    "        soup = BeautifulSoup(htmltext_1, 'lxml')\n",
    "        x = soup.get_text()\n",
    "        return_dict[i] = x\n",
    "        print (i)\n",
    "    except:\n",
    "        return_dict[i] = ''\n",
    "        print ('error', i)\n",
    "        return"
   ]
  },
  {
   "cell_type": "markdown",
   "metadata": {
    "collapsed": true
   },
   "source": [
    "def cleanpledge(i):\n",
    "    if return_dict[i] != None:\n",
    "        try:\n",
    "            path = df['FName'].loc[i]\n",
    "            index = df['index'].loc[i]\n",
    "            clean0 = return_dict[i].replace('\\n', \" \")\n",
    "            clean1 = clean0.replace('\\t', \" \")\n",
    "            clean2 = \" \".join(clean1.split())\n",
    "            unicode_str = str(clean2)\n",
    "            cleaned = unicodedata.normalize(\"NFKC\", unicode_str)\n",
    "            text = cleaned.split('. ')\n",
    "            allmatch = [text[s] + '. ' for s in range (0, len(text)) if 'pledg' in ''.join(text[s:s+1])]\n",
    "            pledge = ''.join(allmatch)\n",
    "            clean_dict[i] = (pledge, index, path)\n",
    "        except:\n",
    "            print('clean error', i)\n",
    "        return\n",
    "    else:\n",
    "        print('empty', i)\n",
    "        return"
   ]
  },
  {
   "cell_type": "markdown",
   "metadata": {
    "collapsed": false
   },
   "source": [
    "def savepledge(i):\n",
    "    getpledge(i)\n",
    "    cleanpledge(i)\n",
    "    return"
   ]
  },
  {
   "cell_type": "code",
   "execution_count": 5,
   "metadata": {
    "collapsed": true
   },
   "outputs": [],
   "source": [
    "    from joblib import Parallel, delayed\n",
    "    import multiprocessing\n"
   ]
  },
  {
   "cell_type": "code",
   "execution_count": 156,
   "metadata": {
    "collapsed": true
   },
   "outputs": [],
   "source": [
    "def parallel(function, loop):\n",
    "    core = multiprocessing.cpu_count()\n",
    "    Parallel(n_jobs= core, backend='threading')(delayed(function)(i) for i in loop)"
   ]
  },
  {
   "cell_type": "code",
   "execution_count": 162,
   "metadata": {
    "collapsed": false
   },
   "outputs": [
    {
     "name": "stdout",
     "output_type": "stream",
     "text": [
      "yes\n"
     ]
    }
   ],
   "source": [
    "if 'pledg' in x:\n",
    "    print('yes')"
   ]
  },
  {
   "cell_type": "code",
   "execution_count": 166,
   "metadata": {
    "collapsed": false
   },
   "outputs": [
    {
     "name": "stdout",
     "output_type": "stream",
     "text": [
      "2\n",
      "3\n",
      "1\n",
      "0\n",
      "4\n",
      "5\n",
      "9\n",
      "6\n",
      "7\n",
      "8\n"
     ]
    }
   ],
   "source": [
    "parallel(pledgeinfo, range(0,10))"
   ]
  },
  {
   "cell_type": "code",
   "execution_count": 168,
   "metadata": {
    "collapsed": false
   },
   "outputs": [
    {
     "data": {
      "text/plain": [
       "('All shares covered by awards granted under this paragraph 13 shall be subject to the following restrictions during the Restricted Period: (i) The shares may not be sold, assigned, transferred, pledged, hypothecated or otherwise disposed of. (ii) Any additional common shares of the Company or other securities or property issued with respect to shares covered by awards granted under this paragraph 13 as a result of any stock dividend, stock split or reorganization, shall be subject to the restrictions and other provisions of this paragraph 13. (iii) A director shall not be entitled to receive any shares prior to completion of all actions deemed appropriate by the Company to comply with federal or state securities laws and stock exchange requirements. (f) Except in the event of conflict, all provisions of the Program shall apply to this paragraph 13.',\n",
       " 19,\n",
       " 'edgar/data/1800/0000912057-00-011369.txt')"
      ]
     },
     "execution_count": 168,
     "metadata": {},
     "output_type": "execute_result"
    }
   ],
   "source": [
    "clean_dict[9]"
   ]
  },
  {
   "cell_type": "code",
   "execution_count": null,
   "metadata": {
    "collapsed": false
   },
   "outputs": [],
   "source": [
    "pledgedf = pd.DataFrame.from_dict(clean_dict, orient = 'index' )"
   ]
  },
  {
   "cell_type": "code",
   "execution_count": null,
   "metadata": {
    "collapsed": false
   },
   "outputs": [],
   "source": [
    "pledgedf.columns = ['infoclean2', 'index', 'path']"
   ]
  },
  {
   "cell_type": "code",
   "execution_count": null,
   "metadata": {
    "collapsed": true
   },
   "outputs": [],
   "source": [
    "pledgedf.to_excel('pledgeinfo.xlsx')"
   ]
  }
 ],
 "metadata": {
  "kernelspec": {
   "display_name": "Python 3",
   "language": "python",
   "name": "python3"
  },
  "language_info": {
   "codemirror_mode": {
    "name": "ipython",
    "version": 3
   },
   "file_extension": ".py",
   "mimetype": "text/x-python",
   "name": "python",
   "nbconvert_exporter": "python",
   "pygments_lexer": "ipython3",
   "version": "3.5.1"
  }
 },
 "nbformat": 4,
 "nbformat_minor": 0
}
