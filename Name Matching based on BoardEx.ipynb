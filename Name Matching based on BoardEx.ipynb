{
 "cells": [
  {
   "cell_type": "code",
   "execution_count": 1,
   "metadata": {
    "collapsed": true
   },
   "outputs": [],
   "source": [
    "import pandas as pd\n",
    "import numpy as np\n",
    "from joblib import Parallel, delayed\n",
    "import multiprocessing\n",
    "import pickle  \n",
    "import spacy\n",
    "import re\n",
    "import string\n",
    "import deepdish as dd"
   ]
  },
  {
   "cell_type": "code",
   "execution_count": 2,
   "metadata": {
    "collapsed": true
   },
   "outputs": [],
   "source": [
    "nlp = spacy.load('en')"
   ]
  },
  {
   "cell_type": "code",
   "execution_count": 65,
   "metadata": {
    "collapsed": false
   },
   "outputs": [],
   "source": [
    "info_dict = dd.io.load('refined_plginfo.h5')\n",
    "raw = pd.read_csv('def_form.csv')\n",
    "tic = pd.read_excel('cik2tic.xlsx')\n",
    "exename = pd.read_excel('exename.xlsx')"
   ]
  },
  {
   "cell_type": "code",
   "execution_count": 46,
   "metadata": {
    "collapsed": false
   },
   "outputs": [],
   "source": [
    "info = pd.DataFrame.from_dict(info_dict,orient='index')\n",
    "plginfo = info[1]\n",
    "Fname = info_dict[2][0]\n",
    "info['Fname'] = Fname\n",
    "info.columns = ['a', 'text', 'FName']\n",
    "info = info[['text', 'FName']]\n",
    "tic = tic[['CIK Number', 'Ticker Symbol']]\n",
    "tic = tic.drop_duplicates()\n",
    "m1 = pd.merge(raw, tic, how = 'left',left_on ='CIK', right_on = 'CIK Number')\n",
    "m = pd.merge(info, m1, how = 'left', on = 'FName')\n",
    "exename_list = exename.drop_duplicates(subset = ['DirectorID', 'Ticker', 'RoleName'], keep='last')\n",
    "name = exename_list [['DirectorName','DirectorID','RoleName','Ticker']]\n",
    "name = name.reset_index(drop = True )"
   ]
  },
  {
   "cell_type": "code",
   "execution_count": 5,
   "metadata": {
    "collapsed": true
   },
   "outputs": [],
   "source": [
    "def parallel(function, loop):\n",
    "    core = multiprocessing.cpu_count()\n",
    "    Parallel(n_jobs= core, backend='threading')(delayed(function)(i) for i in loop)"
   ]
  },
  {
   "cell_type": "code",
   "execution_count": 6,
   "metadata": {
    "collapsed": true
   },
   "outputs": [],
   "source": [
    "def remove_prefix(text,prefix):\n",
    "    return text[text.startswith(prefix) and len(prefix)+1:]"
   ]
  },
  {
   "cell_type": "code",
   "execution_count": 7,
   "metadata": {
    "collapsed": true
   },
   "outputs": [],
   "source": [
    "prefixes = ('Doctor ','Professor ','Reverend ','Governor ','Ambassador ','Major General ', 'Colonel ',\\\n",
    "            'Brigadier General ','General ','Admiral ')"
   ]
  },
  {
   "cell_type": "code",
   "execution_count": 8,
   "metadata": {
    "collapsed": true
   },
   "outputs": [],
   "source": [
    "suffixes = ['Jr', 'II', 'III', 'IV', 'Sr', 'V', 'VI']"
   ]
  },
  {
   "cell_type": "code",
   "execution_count": 9,
   "metadata": {
    "collapsed": false
   },
   "outputs": [],
   "source": [
    "def name_relax(name_input,name_output_0,name_output_1,name_output_2,i):\n",
    "    name = remove_prefix(name_input[i],prefixes)\n",
    "    name_output_0[i] = name\n",
    "    token = nlp(name)\n",
    "    if token[len[token]-1] not in suffixes:\n",
    "        name_output_1[i] = token[len[token]-1]\n",
    "        name_output_2[i] = token[1:len[token]]\n",
    "    else:\n",
    "        name_output_1[i] = token[len[token]-2:len(token)]\n",
    "        name_output_2[i] = token[1:len[token]]\n",
    "    return"
   ]
  },
  {
   "cell_type": "code",
   "execution_count": 10,
   "metadata": {
    "collapsed": false
   },
   "outputs": [],
   "source": [
    "ticker_list = np.array(exename['Ticker'].drop_duplicates(keep='last'))"
   ]
  },
  {
   "cell_type": "code",
   "execution_count": 12,
   "metadata": {
    "collapsed": false
   },
   "outputs": [],
   "source": [
    "def name_split (tic_list,name_df):\n",
    "    for tic in tic_list:\n",
    "        name_dict = {tic:name_df[name_df['Ticker'] == tic]}\n",
    "        return"
   ]
  },
  {
   "cell_type": "code",
   "execution_count": null,
   "metadata": {
    "collapsed": true
   },
   "outputs": [],
   "source": []
  },
  {
   "cell_type": "code",
   "execution_count": 97,
   "metadata": {
    "collapsed": false
   },
   "outputs": [
    {
     "data": {
      "text/plain": [
       "('edgar/data/4904/0001193125-14-094797.txt',\n",
       " [''],\n",
       " ['21,754', '21,754', '532,714', '864,576'],\n",
       " [''],\n",
       " [('', '')])"
      ]
     },
     "execution_count": 97,
     "metadata": {},
     "output_type": "execute_result"
    }
   ],
   "source": [
    "info_dict[123]"
   ]
  },
  {
   "cell_type": "code",
   "execution_count": null,
   "metadata": {
    "collapsed": true
   },
   "outputs": [],
   "source": []
  },
  {
   "cell_type": "code",
   "execution_count": null,
   "metadata": {
    "collapsed": true
   },
   "outputs": [],
   "source": []
  },
  {
   "cell_type": "code",
   "execution_count": null,
   "metadata": {
    "collapsed": true
   },
   "outputs": [],
   "source": []
  },
  {
   "cell_type": "code",
   "execution_count": null,
   "metadata": {
    "collapsed": true
   },
   "outputs": [],
   "source": []
  },
  {
   "cell_type": "code",
   "execution_count": null,
   "metadata": {
    "collapsed": true
   },
   "outputs": [],
   "source": []
  },
  {
   "cell_type": "code",
   "execution_count": null,
   "metadata": {
    "collapsed": true
   },
   "outputs": [],
   "source": []
  },
  {
   "cell_type": "code",
   "execution_count": null,
   "metadata": {
    "collapsed": true
   },
   "outputs": [],
   "source": []
  },
  {
   "cell_type": "code",
   "execution_count": null,
   "metadata": {
    "collapsed": true
   },
   "outputs": [],
   "source": []
  },
  {
   "cell_type": "code",
   "execution_count": null,
   "metadata": {
    "collapsed": true
   },
   "outputs": [],
   "source": []
  },
  {
   "cell_type": "code",
   "execution_count": null,
   "metadata": {
    "collapsed": true
   },
   "outputs": [],
   "source": []
  }
 ],
 "metadata": {
  "kernelspec": {
   "display_name": "Python 3",
   "language": "python",
   "name": "python3"
  },
  "language_info": {
   "codemirror_mode": {
    "name": "ipython",
    "version": 3
   },
   "file_extension": ".py",
   "mimetype": "text/x-python",
   "name": "python",
   "nbconvert_exporter": "python",
   "pygments_lexer": "ipython3",
   "version": "3.5.1"
  }
 },
 "nbformat": 4,
 "nbformat_minor": 0
}
