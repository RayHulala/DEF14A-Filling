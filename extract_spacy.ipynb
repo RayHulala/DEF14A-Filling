{
 "cells": [
  {
   "cell_type": "code",
   "execution_count": null,
   "metadata": {
    "collapsed": false
   },
   "outputs": [],
   "source": [
    "import pandas as pd\n",
    "import numpy as np\n",
    "from joblib import Parallel, delayed\n",
    "import multiprocessing\n",
    "import pickle\n",
    "import spacy\n",
    "import re\n",
    "import string"
   ]
  },
  {
   "cell_type": "code",
   "execution_count": null,
   "metadata": {
    "collapsed": false
   },
   "outputs": [],
   "source": [
    "nlp = spacy.load('en')"
   ]
  },
  {
   "cell_type": "code",
   "execution_count": null,
   "metadata": {
    "collapsed": false
   },
   "outputs": [],
   "source": [
    "info = pd.read_excel('info.xlsx')\n",
    "info['share_indicator'] = np.nan\n",
    "info['num'] = np.nan\n",
    "info['person'] = np.nan\n",
    "info['num_person'] = np.nan"
   ]
  },
  {
   "cell_type": "code",
   "execution_count": null,
   "metadata": {
    "collapsed": true
   },
   "outputs": [],
   "source": [
    "token_dict = {}\n",
    "pos_dict = {}\n",
    "ent_dict = {}\n",
    "share_num = {}\n",
    "share_num_all = {}\n",
    "number_dict = {}\n",
    "name_dict = {}"
   ]
  },
  {
   "cell_type": "code",
   "execution_count": null,
   "metadata": {
    "collapsed": true
   },
   "outputs": [],
   "source": [
    "key = re.compile(r'(share.+?)', re.I)"
   ]
  },
  {
   "cell_type": "code",
   "execution_count": null,
   "metadata": {
    "collapsed": true
   },
   "outputs": [],
   "source": [
    "def parallel(function, loop):\n",
    "    core = multiprocessing.cpu_count()\n",
    "    Parallel(n_jobs= core, backend='threading')(delayed(function)(i) for i in loop)"
   ]
  },
  {
   "cell_type": "code",
   "execution_count": null,
   "metadata": {
    "collapsed": false
   },
   "outputs": [],
   "source": [
    "def num_person(i, name, number,entities):\n",
    "    for p in name:\n",
    "        idx = int(p[0])\n",
    "        while (idx < len(entities)-1):\n",
    "            if entities[idx+1][2] == 'CARDINAL':\n",
    "                m = str(entities[idx+1][1])\n",
    "                if m in number:\n",
    "                    share_num[i].append((p[1], m))\n",
    "                    entities[idx+1] = ('DONE','DONE','DONE')\n",
    "                else:\n",
    "                    idx+=1\n",
    "            else:\n",
    "                idx+=1\n",
    "    return"
   ]
  },
  {
   "cell_type": "code",
   "execution_count": null,
   "metadata": {
    "collapsed": false
   },
   "outputs": [],
   "source": [
    "def share_token(i):\n",
    "    text = info['infoclean2'].loc[i]\n",
    "    find_share = re.findall(key,text)\n",
    "    if find_share != []:\n",
    "        info['share_indicator'].loc[i] = 1\n",
    "        token_dict[i] = nlp(text)\n",
    "    else:\n",
    "        info['share_indicator'].loc[i] = 0\n",
    "        token_dict[i] = ['empty']\n",
    "    return"
   ]
  },
  {
   "cell_type": "code",
   "execution_count": null,
   "metadata": {
    "collapsed": false
   },
   "outputs": [],
   "source": [
    "def find_person(i):\n",
    "    token = token_dict[i]\n",
    "    if token != ['empty']:\n",
    "        tags = [(i, x, x.tag_) for i, x in enumerate(token)]\n",
    "        ents = list(token.ents)\n",
    "        entities = [(i,e, e.label_) for i, e in enumerate(ents) if e.label_ == 'PERSON' or e.label_ == 'CARDINAL']\n",
    "        pos_dict[i] = tags\n",
    "        ent_dict[i] = entities\n",
    "        number = [str(s[1]) for s in tags if s[2] == 'CD' and ('shares' in str(token[s[0]-3:s[0]+5]) and 'pledg' in str(token[s[0]-3:s[0]+5]))]\n",
    "        name = [(t[0],t[1]) for t in entities if t[2] == 'PERSON']\n",
    "        name_dict[i] = name\n",
    "        number_dict[i]  = number\n",
    "        info['num'].loc[i] = ';'.join(str(number))\n",
    "        share_num[i] = []\n",
    "        if  number != [] and name != [] and entities != []:\n",
    "            num_person(i, name, number, entities)\n",
    "            info['num_person'].loc[i] = str(share_num[i]).strip('[]')\n",
    "        else:\n",
    "            info['num_person'].loc[i] = 'empty'\n",
    "    return"
   ]
  },
  {
   "cell_type": "code",
   "execution_count": null,
   "metadata": {
    "collapsed": true
   },
   "outputs": [],
   "source": [
    "def extract(i):\n",
    "    share_token(i)\n",
    "    find_person(i)\n",
    "    return print(i)"
   ]
  },
  {
   "cell_type": "code",
   "execution_count": null,
   "metadata": {
    "collapsed": false
   },
   "outputs": [],
   "source": [
    "parallel(extract, info.index)"
   ]
  },
  {
   "cell_type": "code",
   "execution_count": null,
   "metadata": {
    "collapsed": true
   },
   "outputs": [],
   "source": [
    "info.to_excel('share_num_person.xlsx', index = False)"
   ]
  },
  {
   "cell_type": "code",
   "execution_count": null,
   "metadata": {
    "collapsed": true
   },
   "outputs": [],
   "source": []
  },
  {
   "cell_type": "code",
   "execution_count": null,
   "metadata": {
    "collapsed": true
   },
   "outputs": [],
   "source": []
  }
 ],
 "metadata": {
  "kernelspec": {
   "display_name": "Python 3",
   "language": "python",
   "name": "python3"
  },
  "language_info": {
   "codemirror_mode": {
    "name": "ipython",
    "version": 3
   },
   "file_extension": ".py",
   "mimetype": "text/x-python",
   "name": "python",
   "nbconvert_exporter": "python",
   "pygments_lexer": "ipython3",
   "version": "3.5.1"
  }
 },
 "nbformat": 4,
 "nbformat_minor": 0
}
